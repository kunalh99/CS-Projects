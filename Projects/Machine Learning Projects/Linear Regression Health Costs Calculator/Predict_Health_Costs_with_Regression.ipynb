{
  "nbformat": 4,
  "nbformat_minor": 0,
  "metadata": {
    "colab": {
      "name": "Predict_Health_Costs_with_Regression.ipynb",
      "provenance": [],
      "collapsed_sections": []
    },
    "kernelspec": {
      "display_name": "Python 3",
      "name": "python3"
    }
  },
  "cells": [
    {
      "cell_type": "code",
      "metadata": {
        "id": "1rRo8oNqZ-Rj"
      },
      "source": [
        "# Imports\n",
        "import matplotlib.pyplot as plt\n",
        "import numpy as np\n",
        "import pandas as pd\n",
        "\n",
        "try:\n",
        "  # %tensorflow_version only exists in Colab.\n",
        "  %tensorflow_version 2.x\n",
        "except Exception:\n",
        "  pass\n",
        "import tensorflow as tf"
      ],
      "execution_count": 1,
      "outputs": []
    },
    {
      "cell_type": "code",
      "metadata": {
        "id": "6eGvMByXSqrn",
        "colab": {
          "base_uri": "https://localhost:8080/"
        },
        "outputId": "c49eaf36-2904-486e-cbbc-2c6c727a5f00"
      },
      "source": [
        "# Get data files\n",
        "!wget \"https://cdn.freecodecamp.org/project-data/health-costs/insurance.csv\""
      ],
      "execution_count": 2,
      "outputs": [
        {
          "output_type": "stream",
          "text": [
            "--2020-11-22 16:32:24--  https://cdn.freecodecamp.org/project-data/health-costs/insurance.csv\n",
            "Resolving cdn.freecodecamp.org (cdn.freecodecamp.org)... 104.26.3.33, 172.67.70.149, 104.26.2.33, ...\n",
            "Connecting to cdn.freecodecamp.org (cdn.freecodecamp.org)|104.26.3.33|:443... connected.\n",
            "HTTP request sent, awaiting response... 200 OK\n",
            "Length: unspecified [text/csv]\n",
            "Saving to: ‘insurance.csv’\n",
            "\n",
            "insurance.csv           [ <=>                ]  49.09K  --.-KB/s    in 0.008s  \n",
            "\n",
            "2020-11-22 16:32:25 (5.79 MB/s) - ‘insurance.csv’ saved [50264]\n",
            "\n"
          ],
          "name": "stdout"
        }
      ]
    },
    {
      "cell_type": "code",
      "metadata": {
        "id": "CiX2FI4gZtTt"
      },
      "source": [
        "# Importing csv data into pd dataframe\n",
        "def csv_to_df():\n",
        "  df = pd.read_csv(\"insurance.csv\")\n",
        "  return df"
      ],
      "execution_count": 3,
      "outputs": []
    },
    {
      "cell_type": "code",
      "metadata": {
        "id": "LcopvQh3X-kX"
      },
      "source": [
        "# Cleaning the data\n",
        "def clean_data(df):\n",
        "# Handling categorical data\n",
        "  # Region\n",
        "  df = df.join(pd.get_dummies(df.region, prefix='region')).drop('region', axis=1)\n",
        "\n",
        "  encoding = {}\n",
        "  # Sex\n",
        "  values = df.sex.astype('category')\n",
        "  encoding['sex'] = values.cat.categories\n",
        "  df['sex'] = values.cat.codes\n",
        "\n",
        "  # Smoker\n",
        "  values = df.smoker.astype('category')\n",
        "  encoding['smoker'] = values.cat.categories\n",
        "  df['smoker'] = values.cat.codes\n",
        "# Removing unnecessary columns\n",
        "  df.drop(['region_northeast', 'region_northwest', 'region_southeast', 'region_southwest','sex','children'], axis=1, inplace=True)\n",
        "  return df"
      ],
      "execution_count": 4,
      "outputs": []
    },
    {
      "cell_type": "code",
      "metadata": {
        "id": "dzPJFqaAcWsP"
      },
      "source": [
        "# Splitting the data\n",
        "def split_data(df):\n",
        "  size = int(len(df) * .2)\n",
        "  train_dataset = df[:-size]\n",
        "  test_dataset  = df[-size:]\n",
        "  train_labels  = train_dataset['expenses']\n",
        "  train_dataset = train_dataset.drop('expenses', axis=1)\n",
        "  test_labels   = test_dataset['expenses']\n",
        "  test_dataset  = test_dataset.drop('expenses', axis=1)\n",
        "  return train_dataset, test_dataset, train_labels, test_labels "
      ],
      "execution_count": 5,
      "outputs": []
    },
    {
      "cell_type": "code",
      "metadata": {
        "id": "r7UfXREzjqiO"
      },
      "source": [
        "# Building the model\n",
        "def create_model(train_dataset):\n",
        "  model = tf.keras.models.Sequential([tf.keras.layers.Input(shape=(len(train_dataset.keys()),)), tf.keras.layers.BatchNormalization(), tf.keras.layers.Dense(64, activation='relu'), tf.keras.layers.Dense(64, activation='relu'), tf.keras.layers.Dense(1)])\n",
        "  model.compile(optimizer= tf.keras.optimizers.RMSprop(0.05),loss='mse',metrics=['mae', 'mse'])\n",
        "  print(model.summary())\n",
        "  return model"
      ],
      "execution_count": 6,
      "outputs": []
    },
    {
      "cell_type": "code",
      "metadata": {
        "id": "e7ilbmq6j6QP"
      },
      "source": [
        "# Training the model\n",
        "def train_model(model):\n",
        "  model.fit(train_dataset, train_labels, epochs=500,verbose=0)"
      ],
      "execution_count": 7,
      "outputs": []
    },
    {
      "cell_type": "code",
      "metadata": {
        "id": "Ede8k_AqogXw"
      },
      "source": [
        "def evaluate_model(model, test_dataset, test_labels):\n",
        "  loss, mae, mse = model.evaluate(test_dataset, test_labels, verbose=2)\n",
        "  print(\"Loss : \",loss)\n",
        "  print(\"Mean Absolute Error : \",mae)\n",
        "  print(\"Mean Squared Error : \", mse)\n",
        "  return loss, mae, mse"
      ],
      "execution_count": 8,
      "outputs": []
    },
    {
      "cell_type": "code",
      "metadata": {
        "id": "Xe7RXH3N3CWU"
      },
      "source": [
        "# Testing model by checking how well the model generalizes using the test set\n",
        "def test_model(model, test_dataset, test_labels):\n",
        "  loss, mae, mse = evaluate_model(model,test_dataset, test_labels)\n",
        "  print(\"Testing set Mean Abs Error: {:5.2f} expenses\".format(mae))\n",
        "\n",
        "  if mae < 3500:\n",
        "    print(\"You passed the challenge. Great job!\")\n",
        "  else:\n",
        "    print(\"The Mean Abs Error must be less than 3500. Keep trying.\")\n",
        "\n",
        "# Plotting predictions\n",
        "  test_predictions = model.predict(test_dataset).flatten()\n",
        "\n",
        "  a = plt.axes(aspect='equal')\n",
        "  plt.scatter(test_labels, test_predictions)\n",
        "  plt.xlabel('True values (expenses)')\n",
        "  plt.ylabel('Predictions (expenses)')\n",
        "  lims = [0, 50000]\n",
        "  plt.xlim(lims)\n",
        "  plt.ylim(lims)\n",
        "  linregplot = plt.plot(lims,lims)\n",
        "  print(linregplot)"
      ],
      "execution_count": 9,
      "outputs": []
    },
    {
      "cell_type": "code",
      "metadata": {
        "id": "iZh42YjdplpK",
        "colab": {
          "base_uri": "https://localhost:8080/",
          "height": 810
        },
        "outputId": "34e0b148-1493-4210-c193-08aba5833372"
      },
      "source": [
        "if __name__== '__main__':\n",
        "  df = csv_to_df()\n",
        "  df = clean_data(df)\n",
        "  train_dataset, test_dataset, train_labels, test_labels = split_data(df)\n",
        "  model = create_model(train_dataset)\n",
        "  print(\"Training the model....\")\n",
        "  train_model(model)\n",
        "  print(\"Evaluating the model....\")\n",
        "  evaluate_model(model, test_dataset, test_labels)\n",
        "  print(\"Testing the model....\")\n",
        "  test_model(model, test_dataset, test_labels)"
      ],
      "execution_count": 10,
      "outputs": [
        {
          "output_type": "stream",
          "text": [
            "Model: \"sequential\"\n",
            "_________________________________________________________________\n",
            "Layer (type)                 Output Shape              Param #   \n",
            "=================================================================\n",
            "batch_normalization (BatchNo (None, 3)                 12        \n",
            "_________________________________________________________________\n",
            "dense (Dense)                (None, 64)                256       \n",
            "_________________________________________________________________\n",
            "dense_1 (Dense)              (None, 64)                4160      \n",
            "_________________________________________________________________\n",
            "dense_2 (Dense)              (None, 1)                 65        \n",
            "=================================================================\n",
            "Total params: 4,493\n",
            "Trainable params: 4,487\n",
            "Non-trainable params: 6\n",
            "_________________________________________________________________\n",
            "None\n",
            "Training the model now....\n",
            "Evaluating the model....\n",
            "9/9 - 0s - loss: 22288916.0000 - mae: 2677.5779 - mse: 22288916.0000\n",
            "Loss :  22288916.0\n",
            "Mean Absolute Error :  2677.577880859375\n",
            "Mean Squared Error :  22288916.0\n",
            "Testing the model....\n",
            "9/9 - 0s - loss: 22288916.0000 - mae: 2677.5779 - mse: 22288916.0000\n",
            "Loss :  22288916.0\n",
            "Mean Absolute Error :  2677.577880859375\n",
            "Mean Squared Error :  22288916.0\n",
            "Testing set Mean Abs Error: 2677.58 expenses\n",
            "You passed the challenge. Great job!\n",
            "[<matplotlib.lines.Line2D object at 0x7fd7b124fbe0>]\n"
          ],
          "name": "stdout"
        },
        {
          "output_type": "display_data",
          "data": {
            "image/png": "[encoded data removed]",
            "text/plain": [
              "<Figure size 432x288 with 1 Axes>"
            ]
          },
          "metadata": {
            "tags": [],
            "needs_background": "light"
          }
        }
      ]
    }
  ]
}