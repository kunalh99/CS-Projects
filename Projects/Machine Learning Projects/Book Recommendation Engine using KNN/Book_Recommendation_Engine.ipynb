{
  "nbformat": 4,
  "nbformat_minor": 0,
  "metadata": {
    "kernelspec": {
      "display_name": "Python 3",
      "language": "python",
      "name": "python3"
    },
    "language_info": {
      "codemirror_mode": {
        "name": "ipython",
        "version": 3
      },
      "file_extension": ".py",
      "mimetype": "text/x-python",
      "name": "python",
      "nbconvert_exporter": "python",
      "pygments_lexer": "ipython3",
      "version": "3.6.5"
    },
    "colab": {
      "name": "Book_Recommendation_Engine.ipynb",
      "provenance": [],
      "collapsed_sections": []
    }
  },
  "cells": [
    {
      "cell_type": "code",
      "metadata": {
        "id": "Y1onB6kUvo4Z"
      },
      "source": [
        "# Imports  \n",
        "import numpy as np\n",
        "import pandas as pd\n",
        "from scipy.sparse import csr_matrix\n",
        "from sklearn.neighbors import NearestNeighbors\n",
        "import matplotlib.pyplot as plt"
      ],
      "execution_count": 1,
      "outputs": []
    },
    {
      "cell_type": "code",
      "metadata": {
        "id": "iAQGqqO_vo4d",
        "colab": {
          "base_uri": "https://localhost:8080/"
        },
        "outputId": "2040d99a-e20a-4bc2-faf0-233f9d277ee1"
      },
      "source": [
        "# Get data files\n",
        "!wget https://cdn.freecodecamp.org/project-data/books/book-crossings.zip\n",
        "\n",
        "!unzip book-crossings.zip\n",
        "\n",
        "books_filename = 'BX-Books.csv'\n",
        "ratings_filename = 'BX-Book-Ratings.csv'"
      ],
      "execution_count": 2,
      "outputs": [
        {
          "output_type": "stream",
          "text": [
            "--2020-11-22 12:16:02--  https://cdn.freecodecamp.org/project-data/books/book-crossings.zip\n",
            "Resolving cdn.freecodecamp.org (cdn.freecodecamp.org)... 104.26.2.33, 104.26.3.33, 172.67.70.149, ...\n",
            "Connecting to cdn.freecodecamp.org (cdn.freecodecamp.org)|104.26.2.33|:443... connected.\n",
            "HTTP request sent, awaiting response... 200 OK\n",
            "Length: unspecified [application/zip]\n",
            "Saving to: ‘book-crossings.zip’\n",
            "\n",
            "book-crossings.zip      [       <=>          ]  24.88M  18.8MB/s    in 1.3s    \n",
            "\n",
            "2020-11-22 12:16:04 (18.8 MB/s) - ‘book-crossings.zip’ saved [26085508]\n",
            "\n",
            "Archive:  book-crossings.zip\n",
            "  inflating: BX-Book-Ratings.csv     \n",
            "  inflating: BX-Books.csv            \n",
            "  inflating: BX-Users.csv            \n"
          ],
          "name": "stdout"
        }
      ]
    },
    {
      "cell_type": "code",
      "metadata": {
        "id": "NClILWOiEd6Q"
      },
      "source": [
        "# Importing csv data into pd dataframes\n",
        "def csv_to_df():\n",
        "  df_books = pd.read_csv(\n",
        "      books_filename,\n",
        "      encoding = \"ISO-8859-1\",\n",
        "      sep=\";\",\n",
        "      header=0,\n",
        "      names=['isbn', 'title', 'author'],\n",
        "      usecols=['isbn', 'title', 'author'],\n",
        "      dtype={'isbn': 'str', 'title': 'str', 'author': 'str'})\n",
        "\n",
        "  df_ratings = pd.read_csv(\n",
        "      ratings_filename,\n",
        "      encoding = \"ISO-8859-1\",\n",
        "      sep=\";\",\n",
        "      header=0,\n",
        "      names=['user', 'isbn', 'rating'],\n",
        "      usecols=['user', 'isbn', 'rating'],\n",
        "      dtype={'user': 'int32', 'isbn': 'str', 'rating': 'float32'})\n",
        "  return df_books, df_ratings"
      ],
      "execution_count": 3,
      "outputs": []
    },
    {
      "cell_type": "code",
      "metadata": {
        "id": "nQ1QBmx4pKlm"
      },
      "source": [
        "# Cleaning the data\n",
        "def clean_data(df_books, df_ratings):\n",
        "\n",
        "  # Removing null data\n",
        "  df_books.dropna(inplace = True)\n",
        "  \n",
        "  # Removing users with less than 200 ratings\n",
        "  user_ratings = df_ratings['user'].value_counts()\n",
        "  user_ratings.sort_values(ascending = False)\n",
        "  df_ratings_removed = df_ratings[ ~df_ratings['user'].isin(user_ratings[user_ratings < 200].index)]\n",
        "  \n",
        "  # Removing books with less than 100 ratings\n",
        "  book_ratings = df_ratings['isbn'].value_counts()\n",
        "  book_ratings.sort_values(ascending = False).head\n",
        "  df_ratings_removed = df_ratings_removed[\n",
        "  ~df_ratings_removed['isbn'].isin(book_ratings[book_ratings < 100].index)]\n",
        "  return df_ratings_removed"
      ],
      "execution_count": 4,
      "outputs": []
    },
    {
      "cell_type": "code",
      "metadata": {
        "id": "CDHRwPunpqcD"
      },
      "source": [
        "# Preparing the data for the knn model\n",
        "def prepare_data(df_ratings_removed):\n",
        "  df = df_ratings_removed.pivot_table(index=['user'],columns=['isbn'],values='rating').fillna(0).T\n",
        "  df.index = df.join(df_books.set_index('isbn'))['title']\n",
        "  df = df.sort_index()\n",
        "  return df"
      ],
      "execution_count": 5,
      "outputs": []
    },
    {
      "cell_type": "code",
      "metadata": {
        "id": "s1-DNfTGqBoO"
      },
      "source": [
        "# Creating and training the knn model\n",
        "def create_and_train_knn_model(df):\n",
        "  knn_model = NearestNeighbors(metric='cosine')\n",
        "  knn_model.fit(df.values)\n",
        "  return knn_model"
      ],
      "execution_count": 6,
      "outputs": []
    },
    {
      "cell_type": "code",
      "metadata": {
        "id": "f5ZUd-L1SQz7"
      },
      "source": [
        "# Recommendation function\n",
        "def get_recommends(df, knn_model, book_title):\n",
        "  try:\n",
        "    book = df.loc[book_title]\n",
        "  except KeyError as book_error:\n",
        "    print('The entered book', book_error, 'does not exist')\n",
        "    return\n",
        "\n",
        "  distance, indice = knn_model.kneighbors([book.values], n_neighbors=6)\n",
        "\n",
        "  recommended_books = pd.DataFrame({\n",
        "      'title'   : df.iloc[indice[0]].index.values,\n",
        "      'distance': distance[0]\n",
        "    }) \\\n",
        "    .sort_values(by='distance', ascending=False) \\\n",
        "    .head(5).values\n",
        "\n",
        "  return [book_title, recommended_books]"
      ],
      "execution_count": 7,
      "outputs": []
    },
    {
      "cell_type": "code",
      "metadata": {
        "id": "jd2SLCh8oxMh"
      },
      "source": [
        "# Function to test if the challenge is passed or not\n",
        "def test_book_recommendation():\n",
        "  test_pass = True\n",
        "  recommends = get_recommends(df, knn_model, \"Where the Heart Is (Oprah's Book Club (Paperback))\")\n",
        "  if recommends[0] != \"Where the Heart Is (Oprah's Book Club (Paperback))\":\n",
        "    test_pass = False\n",
        "  recommended_books = [\"I'll Be Seeing You\", 'The Weight of Water', 'The Surgeon', 'I Know This Much Is True']\n",
        "  recommended_books_dist = [0.8, 0.77, 0.77, 0.77]\n",
        "  for i in range(2): \n",
        "    if recommends[1][i][0] not in recommended_books:\n",
        "      test_pass = False\n",
        "    if abs(recommends[1][i][1] - recommended_books_dist[i]) >= 0.05:\n",
        "      test_pass = False\n",
        "  if test_pass:\n",
        "    print(\"You passed the challenge! 🎉🎉🎉🎉🎉\")\n",
        "  else:\n",
        "    print(\"You haven't passed yet. Keep trying!\")\n",
        "\n"
      ],
      "execution_count": 8,
      "outputs": []
    },
    {
      "cell_type": "code",
      "metadata": {
        "colab": {
          "base_uri": "https://localhost:8080/"
        },
        "id": "yMQuUW6IxT8m",
        "outputId": "dd68f547-d3cc-4d69-94d2-218c27070923"
      },
      "source": [
        "if __name__ == '__main__':\n",
        "  df_books, df_ratings = csv_to_df()\n",
        "  df_ratings_removed = clean_data(df_books, df_ratings)\n",
        "  df = prepare_data(df_ratings_removed)\n",
        "  knn_model = create_and_train_knn_model(df)\n",
        "  book_title = input(\"Enter a book name : \")\n",
        "  recommendations = get_recommends(df, knn_model, book_title)\n",
        "  print(recommendations)\n",
        "  test_book_recommendation()"
      ],
      "execution_count": 9,
      "outputs": [
        {
          "output_type": "stream",
          "text": [
            "Enter a book name : Where the Heart Is (Oprah's Book Club (Paperback))\n",
            "[\"Where the Heart Is (Oprah's Book Club (Paperback))\", array([[\"I'll Be Seeing You\", 0.8016210794448853],\n",
            "       ['The Weight of Water', 0.7708583474159241],\n",
            "       ['The Surgeon', 0.7699410915374756],\n",
            "       ['I Know This Much Is True', 0.7677075266838074],\n",
            "       ['The Lovely Bones: A Novel', 0.7234864234924316]], dtype=object)]\n",
            "You passed the challenge! 🎉🎉🎉🎉🎉\n"
          ],
          "name": "stdout"
        }
      ]
    }
  ]
}